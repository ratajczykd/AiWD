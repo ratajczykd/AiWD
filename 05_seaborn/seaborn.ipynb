{
 "cells": [
  {
   "cell_type": "markdown",
   "id": "809754e3",
   "metadata": {},
   "source": [
    "# Seaborn\n",
    "\n",
    "```pip install seaborn```"
   ]
  },
  {
   "cell_type": "code",
   "execution_count": null,
   "id": "99214330",
   "metadata": {},
   "outputs": [],
   "source": [
    "import seaborn as sns"
   ]
  },
  {
   "cell_type": "code",
   "execution_count": null,
   "id": "8659f4c4",
   "metadata": {},
   "outputs": [],
   "source": [
    "import pandas as pd\n",
    "import matplotlib.pyplot as plt"
   ]
  },
  {
   "cell_type": "code",
   "execution_count": null,
   "id": "8586918f",
   "metadata": {},
   "outputs": [],
   "source": [
    "df = pd.read_csv('dane_wzrost.csv')"
   ]
  },
  {
   "cell_type": "code",
   "execution_count": null,
   "id": "00eab1dc",
   "metadata": {},
   "outputs": [],
   "source": [
    "df"
   ]
  },
  {
   "cell_type": "code",
   "execution_count": null,
   "id": "a065e8af",
   "metadata": {},
   "outputs": [],
   "source": []
  },
  {
   "cell_type": "markdown",
   "id": "c84f35be",
   "metadata": {},
   "source": [
    "### Wykres pudełkowy"
   ]
  },
  {
   "cell_type": "code",
   "execution_count": null,
   "id": "5703c751",
   "metadata": {},
   "outputs": [],
   "source": [
    "sns.boxplot(data=df, x='Plec', y='Wzrost', hue='Wyksztalcenie')\n",
    "\n",
    "#parametr orient"
   ]
  },
  {
   "cell_type": "code",
   "execution_count": null,
   "id": "56cded5a",
   "metadata": {},
   "outputs": [],
   "source": []
  },
  {
   "cell_type": "code",
   "execution_count": null,
   "id": "16e4d542",
   "metadata": {},
   "outputs": [],
   "source": [
    "sns.violinplot(data=df, x='Plec', y='Wzrost', hue='Wyksztalcenie')"
   ]
  },
  {
   "cell_type": "markdown",
   "id": "febb611f",
   "metadata": {},
   "source": [
    "### Histogram"
   ]
  },
  {
   "cell_type": "code",
   "execution_count": null,
   "id": "e294bce4",
   "metadata": {},
   "outputs": [],
   "source": [
    "sns.histplot(df[df['Plec'] == 'kobieta']['Wzrost'])\n",
    "#bins"
   ]
  },
  {
   "cell_type": "code",
   "execution_count": null,
   "id": "e91d8b0d",
   "metadata": {},
   "outputs": [],
   "source": [
    "sns.histplot(df[df['Plec'] == 'mężczyzna']['Wzrost'])"
   ]
  },
  {
   "cell_type": "code",
   "execution_count": null,
   "id": "7cfdf7df",
   "metadata": {},
   "outputs": [],
   "source": []
  },
  {
   "cell_type": "code",
   "execution_count": null,
   "id": "df105b27",
   "metadata": {},
   "outputs": [],
   "source": [
    "df2 = sns.load_dataset('penguins')"
   ]
  },
  {
   "cell_type": "code",
   "execution_count": null,
   "id": "022f844c",
   "metadata": {},
   "outputs": [],
   "source": [
    "df2"
   ]
  },
  {
   "cell_type": "markdown",
   "id": "abce57f8",
   "metadata": {},
   "source": [
    "<img src=\"https://raw.githubusercontent.com/allisonhorst/palmerpenguins/main/man/figures/culmen_depth.png\" width=\"600\" align=\"left\">"
   ]
  },
  {
   "cell_type": "code",
   "execution_count": null,
   "id": "61b416be",
   "metadata": {},
   "outputs": [],
   "source": []
  },
  {
   "cell_type": "markdown",
   "id": "d4df391a",
   "metadata": {},
   "source": [
    "### Wykresy punktowe"
   ]
  },
  {
   "cell_type": "code",
   "execution_count": null,
   "id": "9e1902a9",
   "metadata": {},
   "outputs": [],
   "source": [
    "sns.jointplot(data=df2, x=\"bill_length_mm\", y=\"bill_depth_mm\", hue=\"species\")"
   ]
  },
  {
   "cell_type": "code",
   "execution_count": null,
   "id": "625b9dbe",
   "metadata": {},
   "outputs": [],
   "source": []
  },
  {
   "cell_type": "markdown",
   "id": "e6a5f72e",
   "metadata": {},
   "source": [
    "###   Zadanie 1 <img src=\"../images/pencil.png\" width=\"20\" align=\"left\">\n",
    "\n",
    "Pokaż na wykresie zależność długości płetw w *cm* i masy ciała w *kg* w zależności od płci. \n"
   ]
  },
  {
   "cell_type": "code",
   "execution_count": null,
   "id": "63cfeaf9",
   "metadata": {},
   "outputs": [],
   "source": []
  },
  {
   "cell_type": "code",
   "execution_count": null,
   "id": "b461e06f",
   "metadata": {},
   "outputs": [],
   "source": []
  },
  {
   "cell_type": "code",
   "execution_count": null,
   "id": "e4d00105",
   "metadata": {},
   "outputs": [],
   "source": [
    "# 'style' argument in scatterplot as additional variable"
   ]
  },
  {
   "cell_type": "markdown",
   "id": "949657b8",
   "metadata": {},
   "source": [
    "### Wykres słupkowy"
   ]
  },
  {
   "cell_type": "code",
   "execution_count": null,
   "id": "05b1c42a",
   "metadata": {},
   "outputs": [],
   "source": [
    "sns.barplot(data=df2, x='island', y='body_mass_g', palette='flare')"
   ]
  },
  {
   "cell_type": "code",
   "execution_count": null,
   "id": "ece2a3bd",
   "metadata": {},
   "outputs": [],
   "source": []
  },
  {
   "cell_type": "code",
   "execution_count": null,
   "id": "64ed2703",
   "metadata": {},
   "outputs": [],
   "source": [
    "sns.stripplot(data=df2, x='island', y='body_mass_g', jitter=False)"
   ]
  },
  {
   "cell_type": "markdown",
   "id": "0d3c4cff",
   "metadata": {},
   "source": [
    "### Regresja"
   ]
  },
  {
   "cell_type": "code",
   "execution_count": null,
   "id": "fb339f59",
   "metadata": {},
   "outputs": [],
   "source": [
    "sns.regplot(x='bill_length_mm', y='bill_depth_mm', data=df2)\n",
    "# lub podobny lmplot"
   ]
  },
  {
   "cell_type": "markdown",
   "id": "8495bc9d",
   "metadata": {},
   "source": [
    "Patrząc na powyższy wykres można stwierdzić, że długość i głębokość dzioba pingwinów korelują ze sobą negatywnie?"
   ]
  },
  {
   "cell_type": "code",
   "execution_count": null,
   "id": "470cbcfd",
   "metadata": {},
   "outputs": [],
   "source": []
  },
  {
   "cell_type": "markdown",
   "id": "42bfa4b5",
   "metadata": {},
   "source": [
    "###   Zadanie 2 <img src=\"../images/pencil.png\" width=\"20\" align=\"left\">\n",
    "\n",
    "Pobierz dane *eerie_like_data.csv* i pokaż korelację na wykresie. Korelacja tych danych wynosi $r_{S}=0.3$, $p<0.0001$."
   ]
  },
  {
   "cell_type": "code",
   "execution_count": null,
   "id": "a778cc79",
   "metadata": {},
   "outputs": [],
   "source": []
  },
  {
   "cell_type": "code",
   "execution_count": null,
   "id": "af65ddc7",
   "metadata": {},
   "outputs": [],
   "source": []
  },
  {
   "cell_type": "code",
   "execution_count": null,
   "id": "e8a18448",
   "metadata": {},
   "outputs": [],
   "source": [
    "sns.set_style('ticks')\n",
    "# darkgrid, whitegrid, dark, white, ticks"
   ]
  },
  {
   "cell_type": "code",
   "execution_count": null,
   "id": "7728d075",
   "metadata": {},
   "outputs": [],
   "source": [
    "sns.regplot(x='bill_length_mm', y='bill_depth_mm', data=df2)\n"
   ]
  },
  {
   "cell_type": "code",
   "execution_count": null,
   "id": "a6fb647a",
   "metadata": {},
   "outputs": [],
   "source": [
    "sns.regplot(x='bill_length_mm', y='bill_depth_mm', data=df2)\n",
    "sns.despine()"
   ]
  },
  {
   "cell_type": "code",
   "execution_count": null,
   "id": "2080a8c0",
   "metadata": {},
   "outputs": [],
   "source": [
    "plt.figure(figsize=(15,15))\n",
    "sns.regplot(x='bill_length_mm', y='bill_depth_mm', data=df2)"
   ]
  },
  {
   "cell_type": "markdown",
   "id": "7bde1090",
   "metadata": {},
   "source": [
    "### Paleta kolorów\n",
    "\n",
    "https://matplotlib.org/stable/users/explain/colors/colormaps.html"
   ]
  },
  {
   "cell_type": "code",
   "execution_count": null,
   "id": "df942c1e",
   "metadata": {},
   "outputs": [],
   "source": []
  }
 ],
 "metadata": {
  "kernelspec": {
   "display_name": "Python 3 (ipykernel)",
   "language": "python",
   "name": "python3"
  },
  "language_info": {
   "codemirror_mode": {
    "name": "ipython",
    "version": 3
   },
   "file_extension": ".py",
   "mimetype": "text/x-python",
   "name": "python",
   "nbconvert_exporter": "python",
   "pygments_lexer": "ipython3",
   "version": "3.8.0"
  }
 },
 "nbformat": 4,
 "nbformat_minor": 5
}
