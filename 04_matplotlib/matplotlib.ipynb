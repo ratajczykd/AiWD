{
 "cells": [
  {
   "cell_type": "markdown",
   "id": "dd88f992",
   "metadata": {},
   "source": [
    "# Matplotlib\n",
    "\n",
    "```pip install matplotlib```\n",
    "\n",
    "### Dokumentacja matplotlib\n",
    "\n",
    "https://matplotlib.org/"
   ]
  },
  {
   "cell_type": "code",
   "execution_count": null,
   "id": "e4cb9015",
   "metadata": {},
   "outputs": [],
   "source": [
    "import matplotlib.pyplot as plt\n",
    "# %matplotlib inline"
   ]
  },
  {
   "cell_type": "code",
   "execution_count": null,
   "id": "bf88e4ae",
   "metadata": {},
   "outputs": [],
   "source": [
    "import numpy as np"
   ]
  },
  {
   "cell_type": "code",
   "execution_count": null,
   "id": "4fcb3435",
   "metadata": {},
   "outputs": [],
   "source": [
    "x = np.arange(10)\n",
    "x"
   ]
  },
  {
   "cell_type": "code",
   "execution_count": null,
   "id": "9ef1613e",
   "metadata": {},
   "outputs": [],
   "source": [
    "y = x ** 2\n",
    "y"
   ]
  },
  {
   "cell_type": "code",
   "execution_count": null,
   "id": "72478565",
   "metadata": {},
   "outputs": [],
   "source": [
    "# Ważne: x i y muszą być równej wielkości\n",
    "\n",
    "plt.plot(x,y)"
   ]
  },
  {
   "cell_type": "markdown",
   "id": "34d82ad0",
   "metadata": {},
   "source": [
    "### Podpisywanie osi"
   ]
  },
  {
   "cell_type": "code",
   "execution_count": null,
   "id": "36f8b06a",
   "metadata": {},
   "outputs": [],
   "source": [
    "plt.plot(x,y)\n",
    "plt.xlabel('Oś X')\n",
    "plt.ylabel('Oś Y')\n",
    "plt.title('Tytuł')"
   ]
  },
  {
   "cell_type": "code",
   "execution_count": null,
   "id": "a206d1ae",
   "metadata": {},
   "outputs": [],
   "source": []
  },
  {
   "cell_type": "markdown",
   "id": "84d69f49",
   "metadata": {},
   "source": [
    "### Dwie zmienne na jednym wykresie\n"
   ]
  },
  {
   "cell_type": "code",
   "execution_count": null,
   "id": "c394b43b",
   "metadata": {},
   "outputs": [],
   "source": [
    "plt.plot(x,y)\n",
    "plt.plot(x,np.sqrt(y))"
   ]
  },
  {
   "cell_type": "code",
   "execution_count": null,
   "id": "2990170b",
   "metadata": {},
   "outputs": [],
   "source": []
  },
  {
   "cell_type": "markdown",
   "id": "080640eb",
   "metadata": {},
   "source": [
    "### Legenda"
   ]
  },
  {
   "cell_type": "code",
   "execution_count": null,
   "id": "c5ef3e59",
   "metadata": {},
   "outputs": [],
   "source": [
    "plt.plot(x,y, label='Pierwszy')\n",
    "plt.plot(x,np.sqrt(y), label='Drugi')\n",
    "plt.legend()"
   ]
  },
  {
   "cell_type": "code",
   "execution_count": null,
   "id": "a0657272",
   "metadata": {},
   "outputs": [],
   "source": []
  },
  {
   "cell_type": "markdown",
   "id": "8b2b10a7",
   "metadata": {},
   "source": [
    "### Wiele wykresów na jednym obrazku"
   ]
  },
  {
   "cell_type": "code",
   "execution_count": null,
   "id": "43b377ea",
   "metadata": {},
   "outputs": [],
   "source": [
    "plt.subplot(1,2,1)\n",
    "plt.plot(x,y,color='g',label='pierwszy')\n",
    "plt.legend()\n",
    "plt.xlabel('X1')\n",
    "plt.ylabel('Y1')\n",
    "\n",
    "plt.subplot(1,2,2)\n",
    "plt.plot(y,x,color='b',label='drugi')\n",
    "plt.legend()\n",
    "plt.xlabel('X2')\n",
    "plt.ylabel('Y2')\n",
    "\n",
    "plt.show()"
   ]
  },
  {
   "cell_type": "markdown",
   "id": "4d63082f",
   "metadata": {},
   "source": [
    "### Kastomizacja"
   ]
  },
  {
   "cell_type": "code",
   "execution_count": null,
   "id": "07535edb",
   "metadata": {},
   "outputs": [],
   "source": [
    "plt.plot(x,y, color='green', linestyle='--', linewidth=5, alpha=0.6)"
   ]
  },
  {
   "cell_type": "code",
   "execution_count": null,
   "id": "8ecea4d1",
   "metadata": {},
   "outputs": [],
   "source": [
    "plt.xlim([2,6])\n",
    "plt.ylim([30,70])"
   ]
  },
  {
   "cell_type": "code",
   "execution_count": null,
   "id": "7404fd27",
   "metadata": {},
   "outputs": [],
   "source": []
  },
  {
   "cell_type": "code",
   "execution_count": null,
   "id": "cb9b53f7",
   "metadata": {},
   "outputs": [],
   "source": [
    "# style: ggplot, seaborn, classic, default\n",
    "plt.style.use('ggplot')"
   ]
  },
  {
   "cell_type": "markdown",
   "id": "85f581b2",
   "metadata": {},
   "source": [
    "### Zapisywanie wykresu"
   ]
  },
  {
   "cell_type": "code",
   "execution_count": null,
   "id": "77442dcd",
   "metadata": {},
   "outputs": [],
   "source": [
    "plt.plot(x,y, label='Pierwszy')\n",
    "plt.plot(x,np.sqrt(y), label='Drugi')\n",
    "plt.legend()\n",
    "plt.xlabel('Oś X')\n",
    "plt.ylabel('Oś Y')\n",
    "\n",
    "plt.savefig('wykres.png', dpi=600)"
   ]
  },
  {
   "cell_type": "code",
   "execution_count": null,
   "id": "ab40d5a8",
   "metadata": {},
   "outputs": [],
   "source": []
  },
  {
   "cell_type": "markdown",
   "id": "97584a65",
   "metadata": {},
   "source": [
    "###   Zadanie 1 <img src=\"../images/pencil.png\" width=\"20\" align=\"left\">\n",
    "\n",
    "Stwórz dwa wykresy dla losowych wartości x i y od 0 do 20, obok siebie na jednym obrazku, prezentujące dane różnymi kolorami i różnymi znacznikami. Opisz osie wykresu. "
   ]
  },
  {
   "cell_type": "code",
   "execution_count": null,
   "id": "7cec3db5",
   "metadata": {},
   "outputs": [],
   "source": []
  },
  {
   "cell_type": "markdown",
   "id": "b39c1beb",
   "metadata": {},
   "source": [
    "# Metoda obiektowa"
   ]
  },
  {
   "cell_type": "code",
   "execution_count": null,
   "id": "b7694565",
   "metadata": {},
   "outputs": [],
   "source": [
    "fig = plt.figure()\n",
    "\n",
    "axes = fig.add_axes([0,0,1,1])\n",
    "axes.plot(x,y)"
   ]
  },
  {
   "cell_type": "code",
   "execution_count": null,
   "id": "e49ac6c3",
   "metadata": {},
   "outputs": [],
   "source": [
    "fig = plt.figure()\n",
    "\n",
    "axes = fig.add_axes([0,0,1,1])\n",
    "axes.plot(x,y)\n",
    "\n",
    "axes2 = fig.add_axes([0.1,0.4,0.5,0.5])\n",
    "axes2.plot(y,x)"
   ]
  },
  {
   "cell_type": "markdown",
   "id": "b79fc1c6",
   "metadata": {},
   "source": [
    "###   Zadanie 2 <img src=\"../images/pencil.png\" width=\"20\" align=\"left\">\n",
    "\n",
    "Stwórz 2 zagnieżdżone wykresy w jednym większym. Jeden z nich umieść w lewym dolnym rogu, drugi w prawym górnym rogu. Wyświetl na nich dowolne dane i podpisz osie. \n",
    "\n",
    "Do opisu osi użyj:\n",
    "```axes.set_xlabel(\"\")\n",
    "axes.set_ylabel(\"\")```"
   ]
  },
  {
   "cell_type": "code",
   "execution_count": null,
   "id": "6e1ab9ba",
   "metadata": {},
   "outputs": [],
   "source": []
  },
  {
   "cell_type": "code",
   "execution_count": null,
   "id": "8382c12c",
   "metadata": {},
   "outputs": [],
   "source": []
  },
  {
   "cell_type": "code",
   "execution_count": null,
   "id": "b204b7f7",
   "metadata": {},
   "outputs": [],
   "source": []
  },
  {
   "cell_type": "markdown",
   "id": "22fdc4ba",
   "metadata": {},
   "source": [
    "### Dual-axis plot"
   ]
  },
  {
   "cell_type": "code",
   "execution_count": null,
   "id": "95ce9ee2",
   "metadata": {},
   "outputs": [],
   "source": [
    "fig = plt.figure()\n",
    "\n",
    "ax1 = fig.add_axes([0,0,1,1])\n",
    "ax1.plot(x, y, color='g')\n",
    "ax1.set_xlabel('X axis')\n",
    "ax1.set_ylabel('Y1 axis', color='g')\n",
    "\n",
    "ax2 = ax1.twinx()\n",
    "ax2.plot(x, np.sqrt(y), color='b')\n",
    "ax2.set_ylabel('Y2 axis', color='b')\n",
    "\n",
    "plt.show()"
   ]
  },
  {
   "cell_type": "markdown",
   "id": "f642be5c",
   "metadata": {},
   "source": [
    "### Inne typy wykresów"
   ]
  },
  {
   "cell_type": "code",
   "execution_count": null,
   "id": "13610d52",
   "metadata": {},
   "outputs": [],
   "source": [
    "# nazwa przedmiotu, średnia, odchylenie standardowe \n",
    "matura_2020 = np.array([['j. polski', 52, 18],\n",
    "                        ['matematyka', 52,  25],\n",
    "                        ['j. angielski', 71, 25],\n",
    "                        ['biologia', 43, 23],\n",
    "                        ['historia', 33, 25]], dtype=object)"
   ]
  },
  {
   "cell_type": "code",
   "execution_count": null,
   "id": "1e97a897",
   "metadata": {},
   "outputs": [],
   "source": [
    "plt.bar(matura_2020[:,0], matura_2020[:,1])"
   ]
  },
  {
   "cell_type": "code",
   "execution_count": null,
   "id": "5a06dee8",
   "metadata": {},
   "outputs": [],
   "source": [
    "plt.bar(matura_2020[:,0], matura_2020[:,1], yerr= matura_2020[:,2])"
   ]
  },
  {
   "cell_type": "code",
   "execution_count": null,
   "id": "3f52fb92",
   "metadata": {},
   "outputs": [],
   "source": []
  },
  {
   "cell_type": "code",
   "execution_count": null,
   "id": "760b3944",
   "metadata": {},
   "outputs": [],
   "source": [
    "dane = np.random.rand(100,2)\n",
    "dane[:,1] *=1.5"
   ]
  },
  {
   "cell_type": "code",
   "execution_count": null,
   "id": "e95782c1",
   "metadata": {},
   "outputs": [],
   "source": [
    "plt.boxplot(dane)\n",
    "plt.show()"
   ]
  },
  {
   "cell_type": "code",
   "execution_count": null,
   "id": "12cc301c",
   "metadata": {},
   "outputs": [],
   "source": []
  },
  {
   "cell_type": "code",
   "execution_count": null,
   "id": "24145e7c",
   "metadata": {},
   "outputs": [],
   "source": [
    "plt.scatter(dane[:,0], dane[:,1])"
   ]
  },
  {
   "cell_type": "code",
   "execution_count": null,
   "id": "70f5d459",
   "metadata": {},
   "outputs": [],
   "source": []
  },
  {
   "cell_type": "code",
   "execution_count": null,
   "id": "a2168485",
   "metadata": {},
   "outputs": [],
   "source": [
    "labels = ['A', 'B', 'C', 'D']\n",
    "sizes = [20, 30, 45, 10]\n",
    "plt.pie(sizes, labels=labels) #explode=[0,0.1,0,0] #autopct='%.1f%%'\n",
    "plt.show()"
   ]
  },
  {
   "cell_type": "code",
   "execution_count": null,
   "id": "a388af7b",
   "metadata": {},
   "outputs": [],
   "source": []
  },
  {
   "cell_type": "code",
   "execution_count": null,
   "id": "3b61b97f",
   "metadata": {},
   "outputs": [],
   "source": []
  },
  {
   "cell_type": "markdown",
   "id": "e430b7d5",
   "metadata": {},
   "source": [
    "###   Zadanie 3 <img src=\"../images/pencil.png\" width=\"20\" align=\"left\">\n",
    "\n",
    "Pobierz dane *dane_wzrost.csv*. Zaprezentuj dane wzrostu na dwóch wykresach (subplotach). "
   ]
  },
  {
   "cell_type": "code",
   "execution_count": null,
   "id": "259c05e6",
   "metadata": {},
   "outputs": [],
   "source": []
  },
  {
   "cell_type": "code",
   "execution_count": null,
   "id": "3919c57d",
   "metadata": {},
   "outputs": [],
   "source": []
  },
  {
   "cell_type": "code",
   "execution_count": null,
   "id": "28512adc",
   "metadata": {},
   "outputs": [],
   "source": []
  },
  {
   "cell_type": "markdown",
   "id": "2f7272c9",
   "metadata": {},
   "source": [
    "###   Zadanie 4 <img src=\"../images/pencil.png\" width=\"20\" align=\"left\">\n",
    "### Stwórz wykres, który będzie przypominał poniższy: \n",
    "<img src=\"../images/wykres_zadanie.png\" align=\"left\">"
   ]
  },
  {
   "cell_type": "code",
   "execution_count": null,
   "id": "46e89f86",
   "metadata": {},
   "outputs": [],
   "source": []
  }
 ],
 "metadata": {
  "kernelspec": {
   "display_name": "Python 3 (ipykernel)",
   "language": "python",
   "name": "python3"
  },
  "language_info": {
   "codemirror_mode": {
    "name": "ipython",
    "version": 3
   },
   "file_extension": ".py",
   "mimetype": "text/x-python",
   "name": "python",
   "nbconvert_exporter": "python",
   "pygments_lexer": "ipython3",
   "version": "3.8.0"
  }
 },
 "nbformat": 4,
 "nbformat_minor": 5
}
