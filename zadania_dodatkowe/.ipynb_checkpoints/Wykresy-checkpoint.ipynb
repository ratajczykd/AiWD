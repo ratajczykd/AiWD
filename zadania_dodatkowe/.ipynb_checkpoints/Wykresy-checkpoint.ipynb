{
 "cells": [
  {
   "cell_type": "code",
   "execution_count": null,
   "id": "854fd3c1",
   "metadata": {},
   "outputs": [],
   "source": []
  },
  {
   "cell_type": "code",
   "execution_count": null,
   "id": "2fb2ae98",
   "metadata": {},
   "outputs": [],
   "source": []
  },
  {
   "cell_type": "markdown",
   "id": "bbc23d58",
   "metadata": {},
   "source": [
    "## W pliku \"q1.csv\" znajdują się dane z eksperymentu, gdzie prezenowano osobom badanym 12 modeli postaci 3D. Osoby badane odpowiadały na pytanie o podobieństwo do człowieka na skali Likerta 1-5. Osoby badane były podzielone na 2 grupy, które różniły się tłem na którym prezentowany był model.  \n",
    "\n",
    "Jeden z modeli użytych w badaniu: \n",
    "\n",
    "<img src=\"model06.png\" width=\"400\" >\n",
    "<br>\n",
    "\n",
    "Dodatkowe informacje na temat badania: \n",
    "Ratajczyk, D., Jukiewicz, M., & Lupkowski, P. (2019). Evaluation of the uncanny valley hypothesis based on declared emotional response and psychophysiological reaction. Bio-Algorithms and Med-Systems, 15(2), 20190008."
   ]
  },
  {
   "cell_type": "markdown",
   "id": "05a6274a",
   "metadata": {},
   "source": [
    "## Stwórz wykres na którym pokażesz różnice między modelami dla obu grup osób badanych, np. wykres pudełkowy lub słupkowy. "
   ]
  },
  {
   "cell_type": "markdown",
   "id": "d40cd488",
   "metadata": {},
   "source": [
    "## Odpowiedz sobie na pytania: \n",
    "## * Ile osób brało udział w eksperymencie? \n",
    "## * Ile osób trafiło do piewszej grupy, a ile do drugiej grupy? "
   ]
  },
  {
   "cell_type": "code",
   "execution_count": null,
   "id": "b1ddb794",
   "metadata": {},
   "outputs": [],
   "source": []
  },
  {
   "cell_type": "code",
   "execution_count": null,
   "id": "a9c0d78c",
   "metadata": {},
   "outputs": [],
   "source": []
  },
  {
   "cell_type": "code",
   "execution_count": null,
   "id": "25da86b0",
   "metadata": {},
   "outputs": [],
   "source": [
    "# Pobierz plik jako df\n",
    "# do wybrania wielu kolumn można użyć takiej metody:\n",
    "\n",
    "df.columns # nazwy wszystkich kolumn"
   ]
  },
  {
   "cell_type": "code",
   "execution_count": null,
   "id": "d84b923a",
   "metadata": {},
   "outputs": [],
   "source": [
    "df.columns[2:] # zawężone nazwy kolumn do modeli"
   ]
  },
  {
   "cell_type": "code",
   "execution_count": null,
   "id": "9b886b69",
   "metadata": {},
   "outputs": [],
   "source": [
    "df[df.columns[2:]] # zawężona tabela do kolumn z odpowiedziami na pytanie"
   ]
  },
  {
   "cell_type": "code",
   "execution_count": null,
   "id": "fe6a66fe",
   "metadata": {},
   "outputs": [],
   "source": []
  }
 ],
 "metadata": {
  "kernelspec": {
   "display_name": "Python 3 (ipykernel)",
   "language": "python",
   "name": "python3"
  },
  "language_info": {
   "codemirror_mode": {
    "name": "ipython",
    "version": 3
   },
   "file_extension": ".py",
   "mimetype": "text/x-python",
   "name": "python",
   "nbconvert_exporter": "python",
   "pygments_lexer": "ipython3",
   "version": "3.8.0"
  }
 },
 "nbformat": 4,
 "nbformat_minor": 5
}
