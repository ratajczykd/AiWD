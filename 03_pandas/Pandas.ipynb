{
 "cells": [
  {
   "cell_type": "markdown",
   "id": "693d0e34",
   "metadata": {},
   "source": [
    "### Instalacja Pandas\n",
    "\n",
    "W konsoli:\n",
    "```\n",
    "   pip install pandas\n",
    "```"
   ]
  },
  {
   "cell_type": "code",
   "execution_count": null,
   "id": "f0a736bc",
   "metadata": {},
   "outputs": [],
   "source": [
    "import numpy as np\n",
    "import pandas as pd"
   ]
  },
  {
   "cell_type": "markdown",
   "id": "d10e1ff1",
   "metadata": {},
   "source": [
    "Dwa typy struktur:\n",
    "* Series -- jednowymiarowa\n",
    "* DataFrame -- dwuwymiarowa"
   ]
  },
  {
   "cell_type": "markdown",
   "id": "90e17ccd",
   "metadata": {},
   "source": [
    "# Series"
   ]
  },
  {
   "cell_type": "code",
   "execution_count": null,
   "id": "6b222280",
   "metadata": {},
   "outputs": [],
   "source": [
    "pd.Series([1,2,3])"
   ]
  },
  {
   "cell_type": "code",
   "execution_count": null,
   "id": "38c7ddff",
   "metadata": {},
   "outputs": [],
   "source": [
    "dane = {'a':'pies','b':'kot','c':'krowa'}\n",
    "s =  pd.Series(dane)"
   ]
  },
  {
   "cell_type": "code",
   "execution_count": null,
   "id": "51ca8a98",
   "metadata": {},
   "outputs": [],
   "source": [
    "s"
   ]
  },
  {
   "cell_type": "code",
   "execution_count": null,
   "id": "6cd22295",
   "metadata": {},
   "outputs": [],
   "source": [
    "s['b']"
   ]
  },
  {
   "cell_type": "code",
   "execution_count": null,
   "id": "290c8034",
   "metadata": {},
   "outputs": [],
   "source": [
    "s[1]"
   ]
  },
  {
   "cell_type": "markdown",
   "id": "6243ab24",
   "metadata": {},
   "source": [
    "### DataFrame"
   ]
  },
  {
   "cell_type": "code",
   "execution_count": null,
   "id": "f1070891",
   "metadata": {},
   "outputs": [],
   "source": [
    "df = pd.DataFrame(data=[[1,2,3],[4,5,6],[7,8,9]], index = ['jeden', 'dwa', 'trzy'], columns = ['a', 'b', 'c'])"
   ]
  },
  {
   "cell_type": "code",
   "execution_count": null,
   "id": "5717d2ee",
   "metadata": {},
   "outputs": [],
   "source": [
    "df"
   ]
  },
  {
   "cell_type": "markdown",
   "id": "e8027137",
   "metadata": {},
   "source": [
    "### Indeksowanie i slicing"
   ]
  },
  {
   "cell_type": "code",
   "execution_count": null,
   "id": "89f7c5ec",
   "metadata": {},
   "outputs": [],
   "source": [
    "df['b']"
   ]
  },
  {
   "cell_type": "code",
   "execution_count": null,
   "id": "75110774",
   "metadata": {},
   "outputs": [],
   "source": [
    "df[['b','c']]"
   ]
  },
  {
   "cell_type": "code",
   "execution_count": null,
   "id": "87a2a24b",
   "metadata": {},
   "outputs": [],
   "source": [
    "df.loc['jeden','b']"
   ]
  },
  {
   "cell_type": "code",
   "execution_count": null,
   "id": "76d234e2",
   "metadata": {},
   "outputs": [],
   "source": [
    "df.iloc[0,1]"
   ]
  },
  {
   "cell_type": "code",
   "execution_count": null,
   "id": "f58f4173",
   "metadata": {},
   "outputs": [],
   "source": [
    "df.loc[['jeden','dwa'],['b','c']]"
   ]
  },
  {
   "cell_type": "code",
   "execution_count": null,
   "id": "df5166fc",
   "metadata": {},
   "outputs": [],
   "source": [
    "df.iloc[:2,1:]"
   ]
  },
  {
   "cell_type": "code",
   "execution_count": null,
   "id": "b607cc92",
   "metadata": {},
   "outputs": [],
   "source": []
  },
  {
   "cell_type": "markdown",
   "id": "3d3f9f49",
   "metadata": {},
   "source": [
    "###   Zadanie 1 <img src=\"../images/pencil.png\" width=\"20\" align=\"left\">\n",
    "\n",
    "Stwórz DataFrame *z1_df* z danych *arr*. Nazwij kolumny zgodnie z *nazwy*. Wybierz zakres danych *pomiaru2* i *kontrolnego* oraz wiersze od 5 do 9 indeksu. "
   ]
  },
  {
   "cell_type": "code",
   "execution_count": null,
   "id": "5b30d8d8",
   "metadata": {},
   "outputs": [],
   "source": [
    "np.random.seed(2137)\n",
    "arr = np.random.rand(10,4)\n",
    "nazwy = ['pomiar1', 'pomiar2', 'pomiar3', 'kontrolny']"
   ]
  },
  {
   "cell_type": "code",
   "execution_count": null,
   "id": "dc81e60d",
   "metadata": {},
   "outputs": [],
   "source": [
    "arr"
   ]
  },
  {
   "cell_type": "code",
   "execution_count": null,
   "id": "f8af17d3",
   "metadata": {},
   "outputs": [],
   "source": []
  },
  {
   "cell_type": "code",
   "execution_count": null,
   "id": "0bbf4495",
   "metadata": {},
   "outputs": [],
   "source": []
  },
  {
   "cell_type": "code",
   "execution_count": null,
   "id": "d5596df8",
   "metadata": {},
   "outputs": [],
   "source": []
  },
  {
   "cell_type": "markdown",
   "id": "c994cd06",
   "metadata": {},
   "source": [
    "### Wybór warunkowy"
   ]
  },
  {
   "cell_type": "code",
   "execution_count": null,
   "id": "0984372c",
   "metadata": {},
   "outputs": [],
   "source": [
    "df > 5"
   ]
  },
  {
   "cell_type": "code",
   "execution_count": null,
   "id": "09546b27",
   "metadata": {},
   "outputs": [],
   "source": [
    "warunek = df > 5\n",
    "df[warunek]"
   ]
  },
  {
   "cell_type": "code",
   "execution_count": null,
   "id": "f513c98c",
   "metadata": {},
   "outputs": [],
   "source": [
    "df[df>5]"
   ]
  },
  {
   "cell_type": "code",
   "execution_count": null,
   "id": "3f698db6",
   "metadata": {},
   "outputs": [],
   "source": []
  },
  {
   "cell_type": "code",
   "execution_count": null,
   "id": "537d0bd6",
   "metadata": {},
   "outputs": [],
   "source": [
    "df['c']>5"
   ]
  },
  {
   "cell_type": "code",
   "execution_count": null,
   "id": "54e01fcd",
   "metadata": {},
   "outputs": [],
   "source": [
    "df[df['c']>5]"
   ]
  },
  {
   "cell_type": "code",
   "execution_count": null,
   "id": "47321214",
   "metadata": {},
   "outputs": [],
   "source": [
    "nowa_df = df[df['c']>5]"
   ]
  },
  {
   "cell_type": "code",
   "execution_count": null,
   "id": "4b88bd19",
   "metadata": {},
   "outputs": [],
   "source": [
    "nowa_df['b']"
   ]
  },
  {
   "cell_type": "code",
   "execution_count": null,
   "id": "6538d34b",
   "metadata": {},
   "outputs": [],
   "source": [
    "df[df['c']>5]['b']"
   ]
  },
  {
   "cell_type": "markdown",
   "id": "1bd2c182",
   "metadata": {},
   "source": [
    "###   Zadanie 2 <img src=\"../images/pencil.png\" width=\"20\" align=\"left\">\n",
    "\n",
    "Wyodrębnij kolumnę *pomiar3* dla wierszy, które w kolumnie *kontrolny* są mniejsze od 0,5."
   ]
  },
  {
   "cell_type": "code",
   "execution_count": null,
   "id": "b058de56",
   "metadata": {},
   "outputs": [],
   "source": []
  },
  {
   "cell_type": "code",
   "execution_count": null,
   "id": "939ba1a3",
   "metadata": {},
   "outputs": [],
   "source": []
  },
  {
   "cell_type": "code",
   "execution_count": null,
   "id": "77c7c502",
   "metadata": {},
   "outputs": [],
   "source": []
  },
  {
   "cell_type": "code",
   "execution_count": null,
   "id": "d54f511e",
   "metadata": {},
   "outputs": [],
   "source": []
  },
  {
   "cell_type": "code",
   "execution_count": null,
   "id": "51af87a7",
   "metadata": {},
   "outputs": [],
   "source": [
    "df[(df['c'] > 5) & (df['a'] > 7)]['b']"
   ]
  },
  {
   "cell_type": "code",
   "execution_count": null,
   "id": "0940171d",
   "metadata": {},
   "outputs": [],
   "source": []
  },
  {
   "cell_type": "markdown",
   "id": "2f0bf857",
   "metadata": {},
   "source": [
    "###   Zadanie 3 <img src=\"../images/pencil.png\" width=\"20\" align=\"left\">\n",
    "\n",
    "Wyodrębnij kolumnę *kontrolny* dla wierszy, które w kolumnach *pomiar1* i *pomiar2* są większe od 0,2."
   ]
  },
  {
   "cell_type": "code",
   "execution_count": null,
   "id": "aa356b22",
   "metadata": {},
   "outputs": [],
   "source": []
  },
  {
   "cell_type": "code",
   "execution_count": null,
   "id": "a6ca70a2",
   "metadata": {},
   "outputs": [],
   "source": []
  },
  {
   "cell_type": "code",
   "execution_count": null,
   "id": "9070d7b1",
   "metadata": {},
   "outputs": [],
   "source": []
  },
  {
   "cell_type": "markdown",
   "id": "a617e097",
   "metadata": {},
   "source": [
    "### Braki w danych"
   ]
  },
  {
   "cell_type": "code",
   "execution_count": null,
   "id": "07c6dbcf",
   "metadata": {},
   "outputs": [],
   "source": [
    "df"
   ]
  },
  {
   "cell_type": "code",
   "execution_count": null,
   "id": "79765e0a",
   "metadata": {},
   "outputs": [],
   "source": [
    "df.loc[3] = [10, np.nan, 12]"
   ]
  },
  {
   "cell_type": "code",
   "execution_count": null,
   "id": "0f8da57b",
   "metadata": {},
   "outputs": [],
   "source": [
    "df.rename(index={3:\"cztery\"}, inplace=True)"
   ]
  },
  {
   "cell_type": "code",
   "execution_count": null,
   "id": "9c003bc0",
   "metadata": {},
   "outputs": [],
   "source": [
    "df"
   ]
  },
  {
   "cell_type": "code",
   "execution_count": null,
   "id": "716dee10",
   "metadata": {},
   "outputs": [],
   "source": [
    "df.dropna()"
   ]
  },
  {
   "cell_type": "code",
   "execution_count": null,
   "id": "d099f3c6",
   "metadata": {},
   "outputs": [],
   "source": []
  },
  {
   "cell_type": "code",
   "execution_count": null,
   "id": "2b16fe2b",
   "metadata": {},
   "outputs": [],
   "source": [
    "x = df[\"b\"].median()\n",
    "x"
   ]
  },
  {
   "cell_type": "code",
   "execution_count": null,
   "id": "e545a03f",
   "metadata": {},
   "outputs": [],
   "source": [
    "df[\"b\"].fillna(x) #  inplace = True"
   ]
  },
  {
   "cell_type": "code",
   "execution_count": null,
   "id": "7ffb7b18",
   "metadata": {},
   "outputs": [],
   "source": []
  },
  {
   "cell_type": "markdown",
   "id": "16fafd7c",
   "metadata": {},
   "source": [
    "### Łączenie DataFramów"
   ]
  },
  {
   "cell_type": "code",
   "execution_count": null,
   "id": "5132c443",
   "metadata": {},
   "outputs": [],
   "source": [
    "df1 = pd.DataFrame(np.array([np.random.rand(5), [1,2,3,4,5]]).transpose(), columns=['pomiar1', 'nr_badanego'])\n",
    "df2 = pd.DataFrame(np.array([np.random.rand(5)*2, [1,2,3,4,5]]).transpose(), columns=['pomiar1', 'nr_badanego'])"
   ]
  },
  {
   "cell_type": "code",
   "execution_count": null,
   "id": "66d910ad",
   "metadata": {},
   "outputs": [],
   "source": [
    "df1"
   ]
  },
  {
   "cell_type": "code",
   "execution_count": null,
   "id": "cdbd91e4",
   "metadata": {},
   "outputs": [],
   "source": [
    "df2"
   ]
  },
  {
   "cell_type": "code",
   "execution_count": null,
   "id": "2817f242",
   "metadata": {},
   "outputs": [],
   "source": [
    "pd.concat([df1,df2])"
   ]
  },
  {
   "cell_type": "code",
   "execution_count": null,
   "id": "9ddc5fee",
   "metadata": {},
   "outputs": [],
   "source": [
    "pd.merge(left=df1, right=df2, on='nr_badanego')"
   ]
  },
  {
   "cell_type": "code",
   "execution_count": null,
   "id": "6fbbdfc3",
   "metadata": {},
   "outputs": [],
   "source": []
  },
  {
   "cell_type": "markdown",
   "id": "e1fd2da8",
   "metadata": {},
   "source": [
    "###   Zadanie 4 <img src=\"../images/pencil.png\" width=\"20\" align=\"left\">\n",
    "\n",
    "Połącz dataframe'y *df_a* i *df_b*, tak aby stworzyć 4 kolumny z pomiarami dla 5 osób badanych (5 wierszy). "
   ]
  },
  {
   "cell_type": "code",
   "execution_count": null,
   "id": "77b00b4f",
   "metadata": {},
   "outputs": [],
   "source": [
    "df_a = pd.DataFrame(np.array([np.random.rand(5), np.random.rand(5)*0.1]).transpose(), columns=['pomiar1', 'pomiar2'])\n",
    "df_b = pd.DataFrame(np.array([np.random.rand(5)*2, np.random.rand(5)*(-.01)]).transpose(), columns=['pomiar3', 'pomiar4'])"
   ]
  },
  {
   "cell_type": "code",
   "execution_count": null,
   "id": "20f655de",
   "metadata": {},
   "outputs": [],
   "source": []
  },
  {
   "cell_type": "code",
   "execution_count": null,
   "id": "478e5c36",
   "metadata": {},
   "outputs": [],
   "source": []
  },
  {
   "cell_type": "markdown",
   "id": "81c4ca95",
   "metadata": {},
   "source": [
    "### Operacje i przydatne funkcje"
   ]
  },
  {
   "cell_type": "code",
   "execution_count": null,
   "id": "2d4b19fe",
   "metadata": {},
   "outputs": [],
   "source": [
    "df['suma'] = df['a'] + df['c']"
   ]
  },
  {
   "cell_type": "code",
   "execution_count": null,
   "id": "a945600a",
   "metadata": {},
   "outputs": [],
   "source": [
    "# usunięcie kolumny; aby zmieniło pierwotny df, potrzebny 'inplace'\n",
    "df.drop('suma', axis=1)"
   ]
  },
  {
   "cell_type": "code",
   "execution_count": null,
   "id": "1fb9d5ce",
   "metadata": {},
   "outputs": [],
   "source": [
    "df['a'].unique()"
   ]
  },
  {
   "cell_type": "code",
   "execution_count": null,
   "id": "0f1a98e3",
   "metadata": {},
   "outputs": [],
   "source": [
    "df.columns"
   ]
  },
  {
   "cell_type": "code",
   "execution_count": null,
   "id": "39609e67",
   "metadata": {},
   "outputs": [],
   "source": []
  },
  {
   "cell_type": "markdown",
   "id": "f6252291",
   "metadata": {},
   "source": [
    "### Dodatkowe operacje na danych"
   ]
  },
  {
   "cell_type": "code",
   "execution_count": null,
   "id": "168f1698",
   "metadata": {},
   "outputs": [],
   "source": [
    "def pomnoz(x):\n",
    "    return x*3"
   ]
  },
  {
   "cell_type": "code",
   "execution_count": null,
   "id": "95b8d3f6",
   "metadata": {},
   "outputs": [],
   "source": [
    "df['a'].apply(pomnoz)"
   ]
  },
  {
   "cell_type": "code",
   "execution_count": null,
   "id": "ca4ff0c7",
   "metadata": {},
   "outputs": [],
   "source": [
    "df['a'].apply(lambda x:x*3)"
   ]
  },
  {
   "cell_type": "code",
   "execution_count": null,
   "id": "30342573",
   "metadata": {},
   "outputs": [],
   "source": [
    "df.to_csv('dane.csv')"
   ]
  },
  {
   "cell_type": "code",
   "execution_count": null,
   "id": "0eb79383",
   "metadata": {},
   "outputs": [],
   "source": [
    "pobrane_dane = pd.read_csv('dane.csv')"
   ]
  },
  {
   "cell_type": "code",
   "execution_count": null,
   "id": "0ec5a2bd",
   "metadata": {},
   "outputs": [],
   "source": [
    "df.head()"
   ]
  },
  {
   "cell_type": "markdown",
   "id": "0aff3923",
   "metadata": {},
   "source": [
    "###   Zadanie 5 <img src=\"../images/pencil.png\" width=\"20\" align=\"left\">\n",
    "\n",
    "Stwórz nową kolumnę w danych z *z1_df*, która zawiera słowo 'tak' jeśli suma wartości dla kolumn *pomiar1*, *pomiar2*, *pomiar3* jest większa od 1, a słowo 'nie' w przeciwnym wypadku. Eksportuj te dane do pliku csv. "
   ]
  },
  {
   "cell_type": "code",
   "execution_count": null,
   "id": "255d22e2",
   "metadata": {},
   "outputs": [],
   "source": []
  }
 ],
 "metadata": {
  "kernelspec": {
   "display_name": "Python 3 (ipykernel)",
   "language": "python",
   "name": "python3"
  },
  "language_info": {
   "codemirror_mode": {
    "name": "ipython",
    "version": 3
   },
   "file_extension": ".py",
   "mimetype": "text/x-python",
   "name": "python",
   "nbconvert_exporter": "python",
   "pygments_lexer": "ipython3",
   "version": "3.8.0"
  }
 },
 "nbformat": 4,
 "nbformat_minor": 5
}
