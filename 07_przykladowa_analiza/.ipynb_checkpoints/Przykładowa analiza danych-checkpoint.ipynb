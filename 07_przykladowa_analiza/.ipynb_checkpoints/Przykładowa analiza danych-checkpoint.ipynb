{
 "cells": [
  {
   "cell_type": "code",
   "execution_count": null,
   "id": "38f1cac4",
   "metadata": {},
   "outputs": [],
   "source": [
    "import pandas as pd\n",
    "import numpy as np\n",
    "from scipy import stats\n",
    "import seaborn as sns\n",
    "import scikit_posthocs as sp\n",
    "import matplotlib.pyplot as plt"
   ]
  },
  {
   "cell_type": "code",
   "execution_count": null,
   "id": "42a27626",
   "metadata": {},
   "outputs": [],
   "source": [
    "# dane pobrane z https://www.kaggle.com/datasets/sujaykapadnis/lets-do-some-coffee-tasting\n",
    "\n",
    "df = pd.read_csv('GACTT_RESULTS_ANONYMIZED_v2.csv')"
   ]
  },
  {
   "cell_type": "markdown",
   "id": "a1be0678",
   "metadata": {},
   "source": [
    "# Ocena danych i generowanie pytań "
   ]
  },
  {
   "cell_type": "code",
   "execution_count": null,
   "id": "067dd82b",
   "metadata": {},
   "outputs": [],
   "source": [
    "for x in df.columns:\n",
    "    print(x)"
   ]
  },
  {
   "cell_type": "code",
   "execution_count": null,
   "id": "ed5be84e",
   "metadata": {},
   "outputs": [],
   "source": [
    "#zmiana opocji na wyświetlanie wszystkich kolumn\n",
    "pd.set_option('display.max_columns', None)"
   ]
  },
  {
   "cell_type": "code",
   "execution_count": null,
   "id": "6b134eed",
   "metadata": {},
   "outputs": [],
   "source": [
    "df.tail(3)"
   ]
  },
  {
   "cell_type": "code",
   "execution_count": null,
   "id": "cf19735e",
   "metadata": {},
   "outputs": [],
   "source": [
    "df['Gender'].unique()"
   ]
  },
  {
   "cell_type": "code",
   "execution_count": null,
   "id": "7c1cbc59",
   "metadata": {},
   "outputs": [],
   "source": [
    "df['Employment Status'].unique()"
   ]
  },
  {
   "cell_type": "code",
   "execution_count": null,
   "id": "1ffd2dba",
   "metadata": {},
   "outputs": [],
   "source": [
    "df['What is your favorite coffee drink?'].unique()"
   ]
  },
  {
   "cell_type": "code",
   "execution_count": null,
   "id": "098937e6",
   "metadata": {},
   "outputs": [],
   "source": [
    "df['Approximately how much have you spent on coffee equipment in the past 5 years?'].unique()"
   ]
  },
  {
   "cell_type": "code",
   "execution_count": null,
   "id": "48a5a30b",
   "metadata": {},
   "outputs": [],
   "source": [
    "df['Lastly, how would you rate your own coffee expertise?'].unique()"
   ]
  },
  {
   "cell_type": "code",
   "execution_count": null,
   "id": "4a069bee",
   "metadata": {},
   "outputs": [],
   "source": [
    "df[\"Before today's tasting, which of the following best described what kind of coffee you like?\"].unique()"
   ]
  },
  {
   "cell_type": "code",
   "execution_count": null,
   "id": "8b76c3ae",
   "metadata": {},
   "outputs": [],
   "source": [
    "df['Education Level'].unique()"
   ]
  },
  {
   "cell_type": "code",
   "execution_count": null,
   "id": "c0e8cc24",
   "metadata": {},
   "outputs": [],
   "source": [
    "df['Ethnicity/Race'].value_counts()"
   ]
  },
  {
   "cell_type": "code",
   "execution_count": null,
   "id": "fb4fbba9",
   "metadata": {},
   "outputs": [],
   "source": [
    "df['Political Affiliation'].value_counts()"
   ]
  },
  {
   "cell_type": "code",
   "execution_count": null,
   "id": "b205f87c",
   "metadata": {},
   "outputs": [],
   "source": [
    "df[\"What is the most you'd ever be willing to pay for a cup of coffee?\"].value_counts()"
   ]
  },
  {
   "cell_type": "code",
   "execution_count": null,
   "id": "97c0411a",
   "metadata": {},
   "outputs": [],
   "source": [
    "# 1. Czy wraz z wiekiem rośnie ilość pitej kawy? \n",
    "# 2. Czy osoby o różnej etniczności piją różną ilość kawy? \n",
    "# 3. Czy osoby które posiadają droższy ekspres sądzą że mają większą wiedzę na temat kawy?\n",
    "# 4. Czy republikanie bardziej niż demokraci wolą gorzką kawę? \n",
    "# 5. Czy kaukaskie kobiety są w stanie zapłacić za kawę więcej niż azjatyckie kobiety?"
   ]
  },
  {
   "cell_type": "code",
   "execution_count": null,
   "id": "6a718d0a",
   "metadata": {},
   "outputs": [],
   "source": [
    "# 1. analiza korelacji - zmienne ilościowe? : \"What is your age?\", \n",
    "#                                             \"How many cups of coffee do you typically drink per day?\"\n",
    "# pearson / spearman\n",
    "#\n",
    "# 2. porównanie grup - zmienna nominalna: \"Ethnicity/Race\" (3 największe grupy w zbiorze danych) , \n",
    "#                      zmienna ilościowa: \"How many cups of coffee do you typically drink per day?\"\n",
    "# anova / kruskal-wallis\n",
    "#\n",
    "# 3. analiza korelacji - zmienna porządkowa: 'Lastly, how would you rate your own coffee expertise?'\n",
    "#                        zmienna porządkowa: \"Approximately how much have you spent on coffee equipment in the past 5 years?\"\n",
    "# spearman\n",
    "#\n",
    "# 4. porównanie grup - zmienna nominalna: \"Political Affiliation\",\n",
    "#                     zmienna nominalna: \"Do you usually add anything to your coffee? (Sugar or sweetener)\"\n",
    "# chi kwadrat\n",
    "#\n",
    "# 5. porównanie grup - zmienne jakościowe: \"Gender\", \"Ethnicity/Race\"\n",
    "#                      zmienna porządkowa: \"What is the most you'd ever be willing to pay for a cup of coffee?\"\n",
    "# t-test / mann-whitney\n",
    "                        "
   ]
  },
  {
   "cell_type": "code",
   "execution_count": null,
   "id": "e43655cc",
   "metadata": {},
   "outputs": [],
   "source": []
  },
  {
   "cell_type": "markdown",
   "id": "51da5846",
   "metadata": {},
   "source": [
    "# 1. Czy wraz z wiekiem rośnie ilość pitej kawy? "
   ]
  },
  {
   "cell_type": "code",
   "execution_count": null,
   "id": "c4921a54",
   "metadata": {},
   "outputs": [],
   "source": [
    "df[\"What is your age?\"].unique()"
   ]
  },
  {
   "cell_type": "code",
   "execution_count": null,
   "id": "fdd912d9",
   "metadata": {},
   "outputs": [],
   "source": [
    "df[\"How many cups of coffee do you typically drink per day?\"].unique()"
   ]
  },
  {
   "cell_type": "code",
   "execution_count": null,
   "id": "77ffb0a4",
   "metadata": {},
   "outputs": [],
   "source": [
    "df['age_recoded'] = df[\"What is your age?\"].replace({'<18 years old':1, '18-24 years old':2, '25-34 years old':3, '35-44 years old':4,'45-54 years old':5,'55-64 years old':6,'>65 years old':7})"
   ]
  },
  {
   "cell_type": "code",
   "execution_count": null,
   "id": "f787ed5f",
   "metadata": {},
   "outputs": [],
   "source": [
    "df['number_of_cups_recoded'] = df[\"How many cups of coffee do you typically drink per day?\"].replace({'Less than 1':1, '1':2, '2':3, '3':4, '4':5, 'More than 4':6})"
   ]
  },
  {
   "cell_type": "code",
   "execution_count": null,
   "id": "ed454cf6",
   "metadata": {},
   "outputs": [],
   "source": []
  },
  {
   "cell_type": "code",
   "execution_count": null,
   "id": "b5494e43",
   "metadata": {},
   "outputs": [],
   "source": [
    "stats.spearmanr(df['age_recoded'], df['number_of_cups_recoded'], nan_policy='omit')"
   ]
  },
  {
   "cell_type": "code",
   "execution_count": null,
   "id": "fbf0e8c8",
   "metadata": {},
   "outputs": [],
   "source": [
    "sns.regplot(data=df, x='age_recoded', y='number_of_cups_recoded')"
   ]
  },
  {
   "cell_type": "code",
   "execution_count": null,
   "id": "39d47e19",
   "metadata": {},
   "outputs": [],
   "source": []
  },
  {
   "cell_type": "code",
   "execution_count": null,
   "id": "1e3dc632",
   "metadata": {},
   "outputs": [],
   "source": [
    "ax = sns.regplot(data=df, x='age_recoded', y='number_of_cups_recoded', x_jitter = 0.25, y_jitter = 0.25, fit_reg=False)\n",
    "\n",
    "opisy_wieku = ['<18','18-24','25-34','35-44','45-54','55-64','>65']\n",
    "opisy_liczby_kubkow = ['Mniej niż 1', '1', '2', '3', '4', 'Więcej niż 4']\n",
    "\n",
    "#  zmiana opisu osi x i y: (lista wartości, lista etykiet)\n",
    "ax.set_xticks(range(1, 8), opisy_wieku)\n",
    "ax.set_yticks(range(1, 7), opisy_liczby_kubkow)\n",
    "\n",
    "plt.xlabel(\"Wiek\")\n",
    "plt.ylabel(\"Liczba kubków kawy\")"
   ]
  },
  {
   "cell_type": "code",
   "execution_count": null,
   "id": "22f74911",
   "metadata": {},
   "outputs": [],
   "source": []
  },
  {
   "cell_type": "markdown",
   "id": "8d41ac14",
   "metadata": {},
   "source": [
    "# 2. Czy osoby o różnej etniczności piją różną ilość kawy? \n"
   ]
  },
  {
   "cell_type": "code",
   "execution_count": null,
   "id": "aad623c8",
   "metadata": {},
   "outputs": [],
   "source": [
    "df[\"Ethnicity/Race\"].value_counts()"
   ]
  },
  {
   "cell_type": "code",
   "execution_count": null,
   "id": "51d63a13",
   "metadata": {},
   "outputs": [],
   "source": [
    "np.array(df[df[\"Ethnicity/Race\"] == 'White/Caucasian'][\"Ethnicity/Race\"])"
   ]
  },
  {
   "cell_type": "code",
   "execution_count": null,
   "id": "6cf8a285",
   "metadata": {},
   "outputs": [],
   "source": [
    "stats.kruskal(df[df[\"Ethnicity/Race\"] == 'White/Caucasian']['number_of_cups_recoded'], \n",
    "              df[df[\"Ethnicity/Race\"] == 'Asian/Pacific Islander']['number_of_cups_recoded'], \n",
    "              df[df[\"Ethnicity/Race\"] == 'Hispanic/Latino']['number_of_cups_recoded'])"
   ]
  },
  {
   "cell_type": "code",
   "execution_count": null,
   "id": "1506e2a4",
   "metadata": {},
   "outputs": [],
   "source": [
    "# stworzenie mniejszego DataFrame'u, która zawiera tylko trzy etniczności:\n",
    "\n",
    "df_posthocs = df[df[\"Ethnicity/Race\"].isin(['White/Caucasian', 'Asian/Pacific Islander', 'Hispanic/Latino'])]\n",
    "\n",
    "# df[\"Ethnicity/Race\"].isin(['White/Caucasian', 'Asian/Pacific Islander', 'Hispanic/Latino']) \n",
    "# równoważne \n",
    "# (df[\"Ethnicity/Race\"] == 'White/Caucasian') | (df[\"Ethnicity/Race\"] == 'Asian/Pacific Islander') | (df[\"Ethnicity/Race\"] == 'Hispanic/Latino')"
   ]
  },
  {
   "cell_type": "code",
   "execution_count": null,
   "id": "e7259daf",
   "metadata": {},
   "outputs": [],
   "source": [
    "# potwierdzenie, że \"Ethnicity/Race\" zawiera tylko 3 wartości\n",
    "df_posthocs[\"Ethnicity/Race\"].unique()"
   ]
  },
  {
   "cell_type": "code",
   "execution_count": null,
   "id": "9ea0c35a",
   "metadata": {},
   "outputs": [],
   "source": [
    "# testy post hoc które pokazują czy istnieją istotne różnice między poszczególnymi parami \n",
    "sp.posthoc_dunn(df_posthocs, val_col='number_of_cups_recoded', group_col='Ethnicity/Race', p_adjust = 'bonferroni')"
   ]
  },
  {
   "cell_type": "code",
   "execution_count": null,
   "id": "f1cdfacb",
   "metadata": {},
   "outputs": [],
   "source": [
    "sns.boxplot(df_posthocs, x= \"Ethnicity/Race\", y=\"number_of_cups_recoded\")\n",
    "\n",
    "# atrybut medianprops={\"color\": \"r\", \"linewidth\": 2}"
   ]
  },
  {
   "cell_type": "code",
   "execution_count": null,
   "id": "c13207b9",
   "metadata": {},
   "outputs": [],
   "source": [
    "ax = sns.violinplot(df_posthocs, x= \"Ethnicity/Race\", y=\"number_of_cups_recoded\")\n",
    "\n",
    "'''\n",
    "opisy_etnicznosci = ['Biały/Kaukaski', 'Azjatycki/Z wysp \\nPacyfiku', 'Hiszpański/Latynoski']\n",
    "opisy_liczby_kubkow = ['Mniej niż 1', '1', '2', '3', '4', 'Więcej niż 4']\n",
    "\n",
    "#  zmiana opisu osi x i y: (lista wartości, lista etykiet)\n",
    "ax.set_xticks(range(3), opisy_etnicznosci)\n",
    "ax.set_yticks(range(1, 7), opisy_liczby_kubkow)\n",
    "\n",
    "plt.xlabel(\"Etniczność\",fontweight='bold')\n",
    "plt.ylabel(\"Liczba kubków kawy\",fontweight='bold')\n",
    "'''"
   ]
  },
  {
   "cell_type": "code",
   "execution_count": null,
   "id": "5e4a7999",
   "metadata": {},
   "outputs": [],
   "source": []
  },
  {
   "cell_type": "markdown",
   "id": "729fb57d",
   "metadata": {},
   "source": [
    "# 4. Czy republikanie wolą gorzką kawę? "
   ]
  },
  {
   "cell_type": "code",
   "execution_count": null,
   "id": "e8b66cf8",
   "metadata": {},
   "outputs": [],
   "source": [
    "df[\"Political Affiliation\"].unique()"
   ]
  },
  {
   "cell_type": "code",
   "execution_count": null,
   "id": "4f026975",
   "metadata": {},
   "outputs": [],
   "source": [
    "df[\"Do you usually add anything to your coffee? (Sugar or sweetener)\"].unique()"
   ]
  },
  {
   "cell_type": "code",
   "execution_count": null,
   "id": "f89521c5",
   "metadata": {},
   "outputs": [],
   "source": [
    "df_for_4 = df[(df[\"Political Affiliation\"] == 'Democrat') | (df[\"Political Affiliation\"] == 'Republican')]"
   ]
  },
  {
   "cell_type": "code",
   "execution_count": null,
   "id": "d38199c8",
   "metadata": {},
   "outputs": [],
   "source": [
    "crosstab = pd.crosstab(df_for_4[\"Political Affiliation\"], df_for_4[\"Do you usually add anything to your coffee? (Sugar or sweetener)\"])\n",
    "crosstab"
   ]
  },
  {
   "cell_type": "code",
   "execution_count": null,
   "id": "f5127544",
   "metadata": {},
   "outputs": [],
   "source": [
    "#     wartość testu chi^2, \n",
    "#     wartość p,\n",
    "#     liczbę stopni swobody,\n",
    "#     oczekiwane wartości,\n",
    "\n",
    "stats.chi2_contingency(crosstab)"
   ]
  },
  {
   "cell_type": "code",
   "execution_count": null,
   "id": "3f9d0388",
   "metadata": {},
   "outputs": [],
   "source": []
  },
  {
   "cell_type": "code",
   "execution_count": null,
   "id": "b4aa4674",
   "metadata": {},
   "outputs": [],
   "source": [
    "# sns.countplot(data= df_for_4, x=\"Political Affiliation\", hue=\"Do you usually add anything to your coffee? (Sugar or sweetener)\")"
   ]
  },
  {
   "cell_type": "code",
   "execution_count": null,
   "id": "f6cbe5f5",
   "metadata": {},
   "outputs": [],
   "source": []
  },
  {
   "cell_type": "markdown",
   "id": "1ada72e9",
   "metadata": {},
   "source": [
    "# 5. Czy kaukaskie kobiety są w stanie zapłacić za kawę więcej niż azjatyckie kobiety?"
   ]
  },
  {
   "cell_type": "code",
   "execution_count": null,
   "id": "70e5e0fe",
   "metadata": {},
   "outputs": [],
   "source": [
    "df[\"Gender\"].unique()"
   ]
  },
  {
   "cell_type": "code",
   "execution_count": null,
   "id": "978c78a6",
   "metadata": {},
   "outputs": [],
   "source": [
    "df[\"Ethnicity/Race\"].unique()"
   ]
  },
  {
   "cell_type": "code",
   "execution_count": null,
   "id": "9d80e66b",
   "metadata": {},
   "outputs": [],
   "source": [
    "df[\"What is the most you'd ever be willing to pay for a cup of coffee?\"].unique()"
   ]
  },
  {
   "cell_type": "code",
   "execution_count": null,
   "id": "575c25e4",
   "metadata": {},
   "outputs": [],
   "source": [
    "df['najwiecej_za_kawe'] = df[\"What is the most you'd ever be willing to pay for a cup of coffee?\"].replace({'Less than $2':0,\n",
    "                '$2-$4':1, '$4-$6':2,  '$6-$8':3, '$8-$10':4, '$10-$15':5, '$15-$20':6, 'More than $20':7 })"
   ]
  },
  {
   "cell_type": "code",
   "execution_count": null,
   "id": "2de1c23f",
   "metadata": {},
   "outputs": [],
   "source": [
    "df[(df[\"Gender\"] == 'Female') & (df[\"Ethnicity/Race\"] == 'Asian/Pacific Islander')]['najwiecej_za_kawe']"
   ]
  },
  {
   "cell_type": "code",
   "execution_count": null,
   "id": "40c260fa",
   "metadata": {},
   "outputs": [],
   "source": [
    "stats.mannwhitneyu(df[(df[\"Gender\"] == 'Female') & (df[\"Ethnicity/Race\"] == 'Asian/Pacific Islander')]['najwiecej_za_kawe'],\n",
    "                   df[(df[\"Gender\"] == 'Female') & (df[\"Ethnicity/Race\"] == 'White/Caucasian')]['najwiecej_za_kawe'], \n",
    "                   nan_policy='omit')"
   ]
  },
  {
   "cell_type": "code",
   "execution_count": null,
   "id": "b2a3fafa",
   "metadata": {},
   "outputs": [],
   "source": [
    "df_for_5 = df[(df[\"Gender\"] == 'Female') & (df[\"Ethnicity/Race\"].isin(['White/Caucasian','Asian/Pacific Islander']))]"
   ]
  },
  {
   "cell_type": "code",
   "execution_count": null,
   "id": "71ea952c",
   "metadata": {},
   "outputs": [],
   "source": [
    "ax =sns.boxplot(data=df_for_5, x=\"Ethnicity/Race\", y='najwiecej_za_kawe')\n",
    "\n",
    "slownik_replace = {'Mniej niż $2':0,'$2-$4':1, '$4-$6':2,  '$6-$8':3, '$8-$10':4, '$10-$15':5, '$15-$20':6, 'Więcej niż $20':7 }\n",
    "wartosci = list(slownik_replace.values())\n",
    "etykiety = list(slownik_replace.keys())\n",
    "\n",
    "#  zmiana opisu osi x i y: (lista wartości, lista etykiet)\n",
    "ax.set_yticks(wartosci, etykiety)\n",
    "\n",
    "plt.ylabel(\"Max. cena za kawę\",fontweight='bold')"
   ]
  },
  {
   "cell_type": "code",
   "execution_count": null,
   "id": "3dfa0070",
   "metadata": {},
   "outputs": [],
   "source": []
  },
  {
   "cell_type": "code",
   "execution_count": null,
   "id": "8f421468",
   "metadata": {},
   "outputs": [],
   "source": []
  }
 ],
 "metadata": {
  "kernelspec": {
   "display_name": "Python 3 (ipykernel)",
   "language": "python",
   "name": "python3"
  },
  "language_info": {
   "codemirror_mode": {
    "name": "ipython",
    "version": 3
   },
   "file_extension": ".py",
   "mimetype": "text/x-python",
   "name": "python",
   "nbconvert_exporter": "python",
   "pygments_lexer": "ipython3",
   "version": "3.8.0"
  }
 },
 "nbformat": 4,
 "nbformat_minor": 5
}
