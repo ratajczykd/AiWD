{
 "cells": [
  {
   "cell_type": "code",
   "execution_count": null,
   "id": "ca40bbb4",
   "metadata": {},
   "outputs": [],
   "source": [
    "import numpy as np\n",
    "import pandas as pd\n",
    "import matplotlib.pyplot as plt\n",
    "import seaborn as sns\n",
    "import scipy"
   ]
  },
  {
   "cell_type": "markdown",
   "id": "1e0a7d9f",
   "metadata": {},
   "source": [
    "## Problemy z encodingiem (kodowaniem znaków)\n",
    "W przypadku plików CSV zapisanych w różnych formatach (np. UTF-8) może wystąpić problem z odczytem znaków specjalnych (polskich znaków)."
   ]
  },
  {
   "cell_type": "code",
   "execution_count": null,
   "id": "88011eee",
   "metadata": {},
   "outputs": [],
   "source": [
    "df = pd.read_csv('brudne_dane.csv', encoding='utf-8')"
   ]
  },
  {
   "cell_type": "code",
   "execution_count": null,
   "id": "272268d6",
   "metadata": {},
   "outputs": [],
   "source": [
    "df"
   ]
  },
  {
   "cell_type": "markdown",
   "id": "3f04a7f4",
   "metadata": {},
   "source": [
    "## Braki w danych"
   ]
  },
  {
   "cell_type": "code",
   "execution_count": null,
   "id": "53c373da",
   "metadata": {},
   "outputs": [],
   "source": [
    "pd.isna(np.nan)"
   ]
  },
  {
   "cell_type": "code",
   "execution_count": null,
   "id": "b80e8956",
   "metadata": {},
   "outputs": [],
   "source": [
    "pd.isna(None)"
   ]
  },
  {
   "cell_type": "code",
   "execution_count": null,
   "id": "5aa80d75",
   "metadata": {},
   "outputs": [],
   "source": [
    "pd.notna(None)"
   ]
  },
  {
   "cell_type": "code",
   "execution_count": null,
   "id": "f6a66fc6",
   "metadata": {},
   "outputs": [],
   "source": []
  },
  {
   "cell_type": "code",
   "execution_count": null,
   "id": "eb6a0708",
   "metadata": {},
   "outputs": [],
   "source": [
    "df.isnull().sum()"
   ]
  },
  {
   "cell_type": "code",
   "execution_count": null,
   "id": "5b920bc5",
   "metadata": {},
   "outputs": [],
   "source": [
    "df_cleaned = df.dropna()"
   ]
  },
  {
   "cell_type": "code",
   "execution_count": null,
   "id": "0c037feb",
   "metadata": {},
   "outputs": [],
   "source": [
    "df_cleaned"
   ]
  },
  {
   "cell_type": "code",
   "execution_count": null,
   "id": "de928014",
   "metadata": {},
   "outputs": [],
   "source": [
    "df['wiek'].fillna(df['wiek'].mean(), inplace=True)"
   ]
  },
  {
   "cell_type": "code",
   "execution_count": null,
   "id": "a9f7ec74",
   "metadata": {},
   "outputs": [],
   "source": [
    "df.isnull().sum()"
   ]
  },
  {
   "cell_type": "code",
   "execution_count": null,
   "id": "4e9b9e5d",
   "metadata": {},
   "outputs": [],
   "source": []
  },
  {
   "cell_type": "markdown",
   "id": "c086d2d2",
   "metadata": {},
   "source": [
    "## Zły typ zmiennej"
   ]
  },
  {
   "cell_type": "code",
   "execution_count": null,
   "id": "ffc97143",
   "metadata": {},
   "outputs": [],
   "source": [
    "print(df.dtypes)"
   ]
  },
  {
   "cell_type": "code",
   "execution_count": null,
   "id": "bbc1b28e",
   "metadata": {},
   "outputs": [],
   "source": [
    "pd.to_numeric(df['wiek'])"
   ]
  },
  {
   "cell_type": "code",
   "execution_count": null,
   "id": "b9978d36",
   "metadata": {},
   "outputs": [],
   "source": [
    "df['data2'] = pd.to_datetime(df['data'])"
   ]
  },
  {
   "cell_type": "code",
   "execution_count": null,
   "id": "d6b8a7de",
   "metadata": {},
   "outputs": [],
   "source": [
    "df"
   ]
  },
  {
   "cell_type": "code",
   "execution_count": null,
   "id": "84cd4a2c",
   "metadata": {},
   "outputs": [],
   "source": [
    "print(df.dtypes)"
   ]
  },
  {
   "cell_type": "code",
   "execution_count": null,
   "id": "064eb3d2",
   "metadata": {},
   "outputs": [],
   "source": [
    "df['ile dni minęło'] = pd.Timestamp.now() - df['data2']"
   ]
  },
  {
   "cell_type": "code",
   "execution_count": null,
   "id": "88b82e78",
   "metadata": {},
   "outputs": [],
   "source": [
    "df"
   ]
  },
  {
   "cell_type": "code",
   "execution_count": null,
   "id": "a8464fd3",
   "metadata": {},
   "outputs": [],
   "source": [
    "df.drop('ile dni minęło', axis=1, inplace=True)"
   ]
  },
  {
   "cell_type": "code",
   "execution_count": null,
   "id": "390bd45d",
   "metadata": {},
   "outputs": [],
   "source": []
  },
  {
   "cell_type": "markdown",
   "id": "b93cae80",
   "metadata": {
    "scrolled": true
   },
   "source": [
    "## Przekształcanie wartości w zmiennych"
   ]
  },
  {
   "cell_type": "code",
   "execution_count": null,
   "id": "81b3a8a1",
   "metadata": {},
   "outputs": [],
   "source": [
    "df['aktywność fizyczna'].unique()"
   ]
  },
  {
   "cell_type": "code",
   "execution_count": null,
   "id": "bb72960e",
   "metadata": {},
   "outputs": [],
   "source": [
    "df['aktywność fizyczna'].replace({'nigdy':0, 'rzadko':1, 'kilka razy w tygodniu':2, 'codziennie':4})"
   ]
  },
  {
   "cell_type": "code",
   "execution_count": null,
   "id": "d59c7d24",
   "metadata": {},
   "outputs": [],
   "source": []
  },
  {
   "cell_type": "code",
   "execution_count": null,
   "id": "b5888674",
   "metadata": {},
   "outputs": [],
   "source": []
  },
  {
   "cell_type": "code",
   "execution_count": null,
   "id": "30f4cd54",
   "metadata": {},
   "outputs": [],
   "source": []
  },
  {
   "cell_type": "markdown",
   "id": "9e459a18",
   "metadata": {},
   "source": [
    "###   Zadanie <img src=\"../images/pencil.png\" width=\"20\" align=\"left\">\n",
    "1. Czy kobiety i mężczyźni uprawiają różne sporty?\n",
    "2. Czy ludzie o różnym wykształceniu różnią się pod względem ilości aktywności fizycznej?\n",
    "3. Czy osoby o różnym wykształceniu mają różną liczbę dzieci?  "
   ]
  },
  {
   "cell_type": "code",
   "execution_count": null,
   "id": "9d9e9db3",
   "metadata": {},
   "outputs": [],
   "source": []
  },
  {
   "cell_type": "code",
   "execution_count": null,
   "id": "0716a651",
   "metadata": {},
   "outputs": [],
   "source": []
  }
 ],
 "metadata": {
  "kernelspec": {
   "display_name": "Python 3 (ipykernel)",
   "language": "python",
   "name": "python3"
  },
  "language_info": {
   "codemirror_mode": {
    "name": "ipython",
    "version": 3
   },
   "file_extension": ".py",
   "mimetype": "text/x-python",
   "name": "python",
   "nbconvert_exporter": "python",
   "pygments_lexer": "ipython3",
   "version": "3.8.0"
  }
 },
 "nbformat": 4,
 "nbformat_minor": 5
}
