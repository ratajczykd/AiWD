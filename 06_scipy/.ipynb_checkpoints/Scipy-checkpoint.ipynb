{
 "cells": [
  {
   "cell_type": "markdown",
   "id": "5fbfd241",
   "metadata": {},
   "source": [
    "# Scipy\n",
    "\n",
    "`pip install scipy`"
   ]
  },
  {
   "cell_type": "code",
   "execution_count": null,
   "id": "1dc90210",
   "metadata": {},
   "outputs": [],
   "source": [
    "from scipy import stats"
   ]
  },
  {
   "cell_type": "code",
   "execution_count": null,
   "id": "206c9573",
   "metadata": {},
   "outputs": [],
   "source": [
    "import numpy as np\n",
    "import pandas as pd\n",
    "import matplotlib.pyplot as plt\n",
    "import seaborn as sns"
   ]
  },
  {
   "cell_type": "markdown",
   "id": "35544a2e",
   "metadata": {},
   "source": [
    "<img src=\"../images/overview-statistical-tests-statsandr.png\"/>\n",
    "\n",
    "<div style=\"text-align: right\">Źródło: https://statsandr.com/blog/what-statistical-test-should-i-do/</div>"
   ]
  },
  {
   "cell_type": "markdown",
   "id": "f507532e",
   "metadata": {},
   "source": [
    "## Czynniki brane pod uwagę przy wyborze testów statystycznych\n",
    "### Liczba zmiennych \n",
    "* 1\n",
    "* 2 (najczęstszy przypadek)\n",
    "* 3 lub więcej\n",
    "\n",
    "### Typ danych\n",
    "* nominalne\n",
    "* porządkowe\n",
    "* ilościowe"
   ]
  },
  {
   "cell_type": "markdown",
   "id": "6aa064f9",
   "metadata": {},
   "source": [
    "### Porównanie danych porządkowych\n",
    "\n",
    "* **Test Test Manna-Whitneya** - porównanie dwóch grup niezależnych"
   ]
  },
  {
   "cell_type": "code",
   "execution_count": null,
   "id": "06ba8bb2",
   "metadata": {},
   "outputs": [],
   "source": [
    "grupa1 = ['zawodowe', 'podstawowe', 'zawodowe', 'wyższe', 'wyższe','podstawowe','podstawowe','zawodowe','wyższe','wyższe','wyższe']\n",
    "grupa2 = ['podstawowe','zawodowe','podstawowe','podstawowe','średnie','średnie','podstawowe','podstawowe','podstawowe','średnie','wyższe']"
   ]
  },
  {
   "cell_type": "code",
   "execution_count": null,
   "id": "7e7eabea",
   "metadata": {},
   "outputs": [],
   "source": [
    "df = pd.DataFrame(np.array([grupa1,grupa2]).transpose(), columns=['grupa1', 'grupa2'])\n",
    "df"
   ]
  },
  {
   "cell_type": "code",
   "execution_count": null,
   "id": "8c9ccd87",
   "metadata": {},
   "outputs": [],
   "source": [
    "stats.mannwhitneyu(df['grupa1'], df['grupa2'])"
   ]
  },
  {
   "cell_type": "code",
   "execution_count": null,
   "id": "97c79ce9",
   "metadata": {},
   "outputs": [],
   "source": [
    "df['grupa1_int'] = df['grupa1'].replace({'podstawowe':1, 'średnie':2, 'zawodowe':3, 'wyższe':4})\n",
    "df['grupa2_int'] = df['grupa2'].replace({'podstawowe':1, 'średnie':2, 'zawodowe':3, 'wyższe':4})"
   ]
  },
  {
   "cell_type": "code",
   "execution_count": null,
   "id": "22ed1c79",
   "metadata": {},
   "outputs": [],
   "source": [
    "df"
   ]
  },
  {
   "cell_type": "code",
   "execution_count": null,
   "id": "7e52dbb6",
   "metadata": {},
   "outputs": [],
   "source": [
    "stats.mannwhitneyu(df['grupa1_int'], df['grupa2_int'])"
   ]
  },
  {
   "cell_type": "code",
   "execution_count": null,
   "id": "8d363af2",
   "metadata": {},
   "outputs": [],
   "source": []
  },
  {
   "cell_type": "markdown",
   "id": "7b10dd50",
   "metadata": {},
   "source": [
    "### Porównanie danych porządkowych\n",
    "\n",
    "* **Test Wilcoxona** - porównanie dwóch pomiarów zależnych"
   ]
  },
  {
   "cell_type": "code",
   "execution_count": null,
   "id": "4235e6c9",
   "metadata": {},
   "outputs": [],
   "source": [
    "df = pd.DataFrame(np.random.randint(0,10,size=(10,2)),  columns=['pomiar1', 'pomiar2'])\n",
    "df"
   ]
  },
  {
   "cell_type": "code",
   "execution_count": null,
   "id": "8d5495ad",
   "metadata": {},
   "outputs": [],
   "source": [
    "stats.wilcoxon(df['pomiar1'], df['pomiar2'])"
   ]
  },
  {
   "cell_type": "code",
   "execution_count": null,
   "id": "311e6e02",
   "metadata": {},
   "outputs": [],
   "source": []
  },
  {
   "cell_type": "code",
   "execution_count": null,
   "id": "d8cf40fc",
   "metadata": {},
   "outputs": [],
   "source": []
  },
  {
   "cell_type": "markdown",
   "id": "adb213e8",
   "metadata": {},
   "source": [
    "### Testowanie założeń testów\n",
    "\n",
    "* **Test Shapiro-Wilka** - test zgodności z rozkładem normalnym\n",
    "\n",
    "Jeśli wynik *p* mniejszy od 0.05, odrzucamy hipotezę zerową o zgodności rozkładu naszej zmiennej z rozkładem normalnym"
   ]
  },
  {
   "cell_type": "code",
   "execution_count": null,
   "id": "42948063",
   "metadata": {},
   "outputs": [],
   "source": [
    "grupa1 = np.random.randint(0,10,size=100)\n",
    "grupa1"
   ]
  },
  {
   "cell_type": "code",
   "execution_count": null,
   "id": "ef107449",
   "metadata": {},
   "outputs": [],
   "source": [
    "grupa2 = np.random.normal(5, size=100)\n",
    "grupa2"
   ]
  },
  {
   "cell_type": "code",
   "execution_count": null,
   "id": "148926e9",
   "metadata": {},
   "outputs": [],
   "source": [
    "sns.histplot(grupa1)"
   ]
  },
  {
   "cell_type": "code",
   "execution_count": null,
   "id": "8d527057",
   "metadata": {},
   "outputs": [],
   "source": [
    "sns.histplot(grupa2)"
   ]
  },
  {
   "cell_type": "code",
   "execution_count": null,
   "id": "b8ff043e",
   "metadata": {},
   "outputs": [],
   "source": [
    "stats.shapiro(grupa1)"
   ]
  },
  {
   "cell_type": "code",
   "execution_count": null,
   "id": "5b50865f",
   "metadata": {},
   "outputs": [],
   "source": [
    "stats.shapiro(grupa2)"
   ]
  },
  {
   "cell_type": "markdown",
   "id": "d2ed02b4",
   "metadata": {},
   "source": [
    "### Testowanie założeń\n",
    "\n",
    "* **Test Levene'a** - test homogeniczności wariancji pomiędzy grupami: \n",
    "\n",
    "Jeśli wynik *p* mniejszy od 0.05, odrzucamy hipotezę zerową o równości wariancji między grupami"
   ]
  },
  {
   "cell_type": "code",
   "execution_count": null,
   "id": "82bd5f81",
   "metadata": {},
   "outputs": [],
   "source": [
    "stats.levene(grupa1,grupa2)"
   ]
  },
  {
   "cell_type": "code",
   "execution_count": null,
   "id": "268cb41d",
   "metadata": {},
   "outputs": [],
   "source": []
  },
  {
   "cell_type": "markdown",
   "id": "a3ce163c",
   "metadata": {},
   "source": [
    "### Test t dla grup niezależnych"
   ]
  },
  {
   "cell_type": "code",
   "execution_count": null,
   "id": "86b49e6e",
   "metadata": {},
   "outputs": [],
   "source": [
    "df = pd.DataFrame(np.random.normal(size=(30,2)), columns=['grupa1', 'grupa2'])\n",
    "df"
   ]
  },
  {
   "cell_type": "code",
   "execution_count": null,
   "id": "c7f9f838",
   "metadata": {},
   "outputs": [],
   "source": [
    "stats.ttest_ind(df['grupa1'], df['grupa2'])"
   ]
  },
  {
   "cell_type": "markdown",
   "id": "769cef9e",
   "metadata": {},
   "source": [
    "### Test t dla powtórzonych pomiarów"
   ]
  },
  {
   "cell_type": "code",
   "execution_count": null,
   "id": "aee005a8",
   "metadata": {},
   "outputs": [],
   "source": [
    "df = pd.DataFrame(np.random.normal(size=(30,2)), columns=['pomiar1', 'pomiar2'])\n",
    "df"
   ]
  },
  {
   "cell_type": "code",
   "execution_count": null,
   "id": "6b278575",
   "metadata": {},
   "outputs": [],
   "source": [
    "stats.ttest_rel(df['pomiar1'], df['pomiar2'])"
   ]
  },
  {
   "cell_type": "code",
   "execution_count": null,
   "id": "c3f157a6",
   "metadata": {},
   "outputs": [],
   "source": []
  },
  {
   "cell_type": "markdown",
   "id": "65a708cb",
   "metadata": {},
   "source": [
    "###   Zadanie 1 <img src=\"../images/pencil.png\" width=\"20\" align=\"left\">\n",
    "\n",
    "Pobierz plik *aura_reptilianie.csv* i przetestuj czy jaszczuroludzie różnią się poziomem aury od zwykłych ludzi. "
   ]
  },
  {
   "cell_type": "code",
   "execution_count": null,
   "id": "010ffb2f",
   "metadata": {},
   "outputs": [],
   "source": []
  },
  {
   "cell_type": "code",
   "execution_count": null,
   "id": "53ed5e1c",
   "metadata": {},
   "outputs": [],
   "source": []
  },
  {
   "cell_type": "code",
   "execution_count": null,
   "id": "5934e7b1",
   "metadata": {},
   "outputs": [],
   "source": []
  },
  {
   "cell_type": "markdown",
   "id": "b0d9b33d",
   "metadata": {},
   "source": [
    "### Porównanie więcej niż dwóch grup\n",
    "\n",
    "* **One-way ANOVA** - dla danych parametrycznych\n",
    "* **Kruskal-Wallis** - dla danych nieparametrycznych"
   ]
  },
  {
   "cell_type": "code",
   "execution_count": null,
   "id": "7893677b",
   "metadata": {},
   "outputs": [],
   "source": [
    "#stats.f_oneway(x, y, z ...)\n",
    "#stats.kruskal(x, y, z ...)"
   ]
  },
  {
   "cell_type": "code",
   "execution_count": null,
   "id": "534b6e62",
   "metadata": {},
   "outputs": [],
   "source": []
  },
  {
   "cell_type": "markdown",
   "id": "bde6f1af",
   "metadata": {},
   "source": [
    "###   Zadanie 2 <img src=\"../images/pencil.png\" width=\"20\" align=\"left\">\n",
    "\n",
    "Sprawdź czy trzy gatunki pingwinów z poniższych danych różnią się pod względem masy ciała. "
   ]
  },
  {
   "cell_type": "code",
   "execution_count": null,
   "id": "80a85690",
   "metadata": {},
   "outputs": [],
   "source": [
    "df2 = sns.load_dataset('penguins')"
   ]
  },
  {
   "cell_type": "code",
   "execution_count": null,
   "id": "0fdc8019",
   "metadata": {},
   "outputs": [],
   "source": [
    "df2"
   ]
  },
  {
   "cell_type": "code",
   "execution_count": null,
   "id": "999ddaff",
   "metadata": {},
   "outputs": [],
   "source": []
  },
  {
   "cell_type": "code",
   "execution_count": null,
   "id": "4a10f09f",
   "metadata": {},
   "outputs": [],
   "source": []
  },
  {
   "cell_type": "code",
   "execution_count": null,
   "id": "af5bff67",
   "metadata": {},
   "outputs": [],
   "source": []
  },
  {
   "cell_type": "markdown",
   "id": "b927b95e",
   "metadata": {},
   "source": [
    "#### Do testów post hoc dla danych parametrycznych można użyć poniższej funkcji:"
   ]
  },
  {
   "cell_type": "code",
   "execution_count": null,
   "id": "fcd40bb5",
   "metadata": {},
   "outputs": [],
   "source": [
    "# print(stats.tukey_hsd())"
   ]
  },
  {
   "cell_type": "markdown",
   "id": "104038a3",
   "metadata": {},
   "source": [
    "#### Natomiast dla danych nieparametrycznych musimy skorzystać z innej paczki: \n",
    "\n",
    "*pip install scikit-posthocs*"
   ]
  },
  {
   "cell_type": "code",
   "execution_count": null,
   "id": "e724aeb3",
   "metadata": {},
   "outputs": [],
   "source": [
    "import scikit_posthocs as sp\n",
    "\n",
    "sp.posthoc_dunn(df2, val_col='body_mass_g', group_col='species', p_adjust = 'bonferroni')"
   ]
  },
  {
   "cell_type": "markdown",
   "id": "32c9514b",
   "metadata": {},
   "source": [
    "### Korelacje \n",
    "\n",
    "* **Pearsona** - dla danych parametrycznych"
   ]
  },
  {
   "cell_type": "code",
   "execution_count": null,
   "id": "50fedce3",
   "metadata": {},
   "outputs": [],
   "source": [
    "#stats.pearsonr(x, y)"
   ]
  },
  {
   "cell_type": "markdown",
   "id": "3a4bf9fc",
   "metadata": {},
   "source": [
    "### Korelacje \n",
    "\n",
    "* **Spearmana** - dla danych parametrycznych"
   ]
  },
  {
   "cell_type": "code",
   "execution_count": null,
   "id": "a51f2947",
   "metadata": {},
   "outputs": [],
   "source": [
    "#stats.spearmanr(x, y)"
   ]
  },
  {
   "cell_type": "code",
   "execution_count": null,
   "id": "89f0d45a",
   "metadata": {},
   "outputs": [],
   "source": []
  },
  {
   "cell_type": "markdown",
   "id": "875bd3c8",
   "metadata": {},
   "source": [
    "###   Zadanie 3 <img src=\"../images/pencil.png\" width=\"20\" align=\"left\">\n",
    "\n",
    "Pobierz plik *eerie_like_data.csv* z zajęć o paczce seaborn i sprawdź czy *eerieness* i *likability* korelują ze sobą. "
   ]
  },
  {
   "cell_type": "code",
   "execution_count": null,
   "id": "fe410d90",
   "metadata": {},
   "outputs": [],
   "source": []
  },
  {
   "cell_type": "code",
   "execution_count": null,
   "id": "53a6b40a",
   "metadata": {},
   "outputs": [],
   "source": []
  },
  {
   "cell_type": "code",
   "execution_count": null,
   "id": "da2d6f44",
   "metadata": {},
   "outputs": [],
   "source": []
  },
  {
   "cell_type": "markdown",
   "id": "24c4fe96",
   "metadata": {},
   "source": [
    "### Porównanie danych nominalnych\n",
    "\n",
    "#### Chi-square test"
   ]
  },
  {
   "cell_type": "code",
   "execution_count": null,
   "id": "14083b50",
   "metadata": {},
   "outputs": [],
   "source": [
    "df = pd.read_csv('aura_reptilianie.csv', index_col=0)"
   ]
  },
  {
   "cell_type": "code",
   "execution_count": null,
   "id": "51dd4a84",
   "metadata": {},
   "outputs": [],
   "source": [
    "# Tabela zawiera zaobserwowane częstości (liczbę wystąpień) w każdej kategorii.\n",
    "\n",
    "pd.crosstab(df['gatunek'], df['czy_chce_przejac_wladze'])"
   ]
  },
  {
   "cell_type": "code",
   "execution_count": null,
   "id": "9a0315a9",
   "metadata": {},
   "outputs": [],
   "source": [
    "crosstab = pd.crosstab(df['gatunek'], df['czy_chce_przejac_wladze'])"
   ]
  },
  {
   "cell_type": "code",
   "execution_count": null,
   "id": "7ce0823d",
   "metadata": {},
   "outputs": [],
   "source": [
    "# funkcja chi2_contingency() zwraca:\n",
    "#     wartość testu chi^2, \n",
    "#     wartość p,\n",
    "#     liczbę stopni swobody,\n",
    "#     oczekiwane wartości,\n",
    "\n",
    "stats.chi2_contingency(crosstab)"
   ]
  },
  {
   "cell_type": "code",
   "execution_count": null,
   "id": "710f0404",
   "metadata": {},
   "outputs": [],
   "source": [
    "sns.countplot(data=df, x='gatunek', hue='czy_chce_przejac_wladze')"
   ]
  },
  {
   "cell_type": "code",
   "execution_count": null,
   "id": "e9c94c00",
   "metadata": {},
   "outputs": [],
   "source": []
  }
 ],
 "metadata": {
  "kernelspec": {
   "display_name": "Python 3 (ipykernel)",
   "language": "python",
   "name": "python3"
  },
  "language_info": {
   "codemirror_mode": {
    "name": "ipython",
    "version": 3
   },
   "file_extension": ".py",
   "mimetype": "text/x-python",
   "name": "python",
   "nbconvert_exporter": "python",
   "pygments_lexer": "ipython3",
   "version": "3.8.0"
  }
 },
 "nbformat": 4,
 "nbformat_minor": 5
}
